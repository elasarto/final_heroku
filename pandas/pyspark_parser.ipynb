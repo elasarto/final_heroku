{
 "cells": [
  {
   "cell_type": "code",
   "execution_count": 9,
   "metadata": {
    "collapsed": true
   },
   "outputs": [],
   "source": [
    "from pyspark.sql import SparkSession\n",
    "from pyspark.ml.feature import Tokenizer, StopWordsRemover"
   ]
  },
  {
   "cell_type": "code",
   "execution_count": 10,
   "metadata": {
    "collapsed": true
   },
   "outputs": [],
   "source": [
    "spark = SparkSession.builder.appName('lyrics').getOrCreate()"
   ]
  },
  {
   "cell_type": "code",
   "execution_count": 11,
   "metadata": {},
   "outputs": [
    {
     "name": "stdout",
     "output_type": "stream",
     "text": [
      "+--------------------+\n",
      "|                Text|\n",
      "+--------------------+\n",
      "|Would you be my G...|\n",
      "|Bye bye bye   I'm...|\n",
      "|Baby, you're not ...|\n",
      "|Thank God that it...|\n",
      "|It's gonna--be--m...|\n",
      "|It's gonna--be--m...|\n",
      "|There's a thousan...|\n",
      "|I was hanging wit...|\n",
      "|Oh, oh   When the...|\n",
      "|Sick and tired of...|\n",
      "|My my   At Waterl...|\n",
      "|I wasn't jealous ...|\n",
      "|I wasn't jealous ...|\n",
      "|\"[Chorus]   Mamma...|\n",
      "|\"[Chorus]   Mamma...|\n",
      "|If you change you...|\n",
      "|If you change you...|\n",
      "|Can you hear the ...|\n",
      "|You're so hot, te...|\n",
      "|You can dance, yo...|\n",
      "+--------------------+\n",
      "only showing top 20 rows\n",
      "\n"
     ]
    }
   ],
   "source": [
    "dataframe = spark.read.format('csv').option(\"header\", \"true\").load(\"lyrics.csv\")\n",
    "dataframe.show()"
   ]
  },
  {
   "cell_type": "code",
   "execution_count": 13,
   "metadata": {
    "collapsed": true
   },
   "outputs": [],
   "source": [
    "# Tokenize dataframe\n",
    "lyrics_data = Tokenizer(inputCol=\"Text\", outputCol=\"Words\")"
   ]
  },
  {
   "cell_type": "code",
   "execution_count": 14,
   "metadata": {},
   "outputs": [
    {
     "name": "stdout",
     "output_type": "stream",
     "text": [
      "+--------------------+--------------------+\n",
      "|                Text|               Words|\n",
      "+--------------------+--------------------+\n",
      "|Would you be my G...|[would, you, be, ...|\n",
      "|Bye bye bye   I'm...|[bye, bye, bye, ,...|\n",
      "|Baby, you're not ...|[baby,, you're, n...|\n",
      "|Thank God that it...|[thank, god, that...|\n",
      "|It's gonna--be--m...|[it's, gonna--be-...|\n",
      "|It's gonna--be--m...|[it's, gonna--be-...|\n",
      "|There's a thousan...|[there's, a, thou...|\n",
      "|I was hanging wit...|[i, was, hanging,...|\n",
      "|Oh, oh   When the...|[oh,, oh, , , whe...|\n",
      "|Sick and tired of...|[sick, and, tired...|\n",
      "|My my   At Waterl...|[my, my, , , at, ...|\n",
      "|I wasn't jealous ...|[i, wasn't, jealo...|\n",
      "|I wasn't jealous ...|[i, wasn't, jealo...|\n",
      "|\"[Chorus]   Mamma...|[\"[chorus], , , m...|\n",
      "|\"[Chorus]   Mamma...|[\"[chorus], , , m...|\n",
      "|If you change you...|[if, you, change,...|\n",
      "|If you change you...|[if, you, change,...|\n",
      "|Can you hear the ...|[can, you, hear, ...|\n",
      "|You're so hot, te...|[you're, so, hot,...|\n",
      "|You can dance, yo...|[you, can, dance,...|\n",
      "+--------------------+--------------------+\n",
      "only showing top 20 rows\n",
      "\n"
     ]
    }
   ],
   "source": [
    "# Transform dataframe\n",
    "lyrics_text = lyrics_data.transform(dataframe)\n",
    "lyrics_text.show()"
   ]
  },
  {
   "cell_type": "code",
   "execution_count": 15,
   "metadata": {
    "collapsed": true
   },
   "outputs": [],
   "source": [
    "# Remove stop words\n",
    "remover = StopWordsRemover(inputCol=\"Words\", outputCol=\"Filtered\")"
   ]
  },
  {
   "cell_type": "code",
   "execution_count": 16,
   "metadata": {},
   "outputs": [
    {
     "name": "stdout",
     "output_type": "stream",
     "text": [
      "+--------------------+--------------------+--------------------+\n",
      "|                Text|               Words|            Filtered|\n",
      "+--------------------+--------------------+--------------------+\n",
      "|Would you be my G...|[would, you, be, ...|[girlfriend?, [re...|\n",
      "|Bye bye bye   I'm...|[bye, bye, bye, ,...|[bye, bye, bye, ,...|\n",
      "|Baby, you're not ...|[baby,, you're, n...|[baby,, one, , , ...|\n",
      "|Thank God that it...|[thank, god, that...|[thank, god, frid...|\n",
      "|It's gonna--be--m...|[it's, gonna--be-...|[gonna--be--me, ,...|\n",
      "|It's gonna--be--m...|[it's, gonna--be-...|[gonna--be--me, ,...|\n",
      "|There's a thousan...|[there's, a, thou...|[thousand, words,...|\n",
      "|I was hanging wit...|[i, was, hanging,...|[hanging, fellas,...|\n",
      "|Oh, oh   When the...|[oh,, oh, , , whe...|[oh,, oh, , , vis...|\n",
      "|Sick and tired of...|[sick, and, tired...|[sick, tired, hea...|\n",
      "|My my   At Waterl...|[my, my, , , at, ...|[, , waterloo, na...|\n",
      "|I wasn't jealous ...|[i, wasn't, jealo...|[jealous, met, , ...|\n",
      "|I wasn't jealous ...|[i, wasn't, jealo...|[jealous, met, , ...|\n",
      "|\"[Chorus]   Mamma...|[\"[chorus], , , m...|[\"[chorus], , , m...|\n",
      "|\"[Chorus]   Mamma...|[\"[chorus], , , m...|[\"[chorus], , , m...|\n",
      "|If you change you...|[if, you, change,...|[change, mind,, f...|\n",
      "|If you change you...|[if, you, change,...|[change, mind,, f...|\n",
      "|Can you hear the ...|[can, you, hear, ...|[hear, drums, fer...|\n",
      "|You're so hot, te...|[you're, so, hot,...|[hot,, teasing, ,...|\n",
      "|You can dance, yo...|[you, can, dance,...|[dance,, jive,, t...|\n",
      "+--------------------+--------------------+--------------------+\n",
      "only showing top 20 rows\n",
      "\n"
     ]
    }
   ],
   "source": [
    "# Transform new dataframe\n",
    "newFrame = remover.transform(lyrics_text)\n",
    "newFrame.show()"
   ]
  },
  {
   "cell_type": "code",
   "execution_count": 22,
   "metadata": {
    "collapsed": true
   },
   "outputs": [],
   "source": [
    "spark.stop()"
   ]
  },
  {
   "cell_type": "code",
   "execution_count": 19,
   "metadata": {
    "collapsed": true
   },
   "outputs": [],
   "source": [
    "import pandas as pd\n",
    "lyrics_final_df = newFrame.toPandas() "
   ]
  },
  {
   "cell_type": "code",
   "execution_count": 20,
   "metadata": {},
   "outputs": [
    {
     "data": {
      "text/html": [
       "<div>\n",
       "<style>\n",
       "    .dataframe thead tr:only-child th {\n",
       "        text-align: right;\n",
       "    }\n",
       "\n",
       "    .dataframe thead th {\n",
       "        text-align: left;\n",
       "    }\n",
       "\n",
       "    .dataframe tbody tr th {\n",
       "        vertical-align: top;\n",
       "    }\n",
       "</style>\n",
       "<table border=\"1\" class=\"dataframe\">\n",
       "  <thead>\n",
       "    <tr style=\"text-align: right;\">\n",
       "      <th></th>\n",
       "      <th>Text</th>\n",
       "      <th>Words</th>\n",
       "      <th>Filtered</th>\n",
       "    </tr>\n",
       "  </thead>\n",
       "  <tbody>\n",
       "    <tr>\n",
       "      <th>0</th>\n",
       "      <td>Would you be my Girlfriend? [Repeat: x3]   I l...</td>\n",
       "      <td>[would, you, be, my, girlfriend?, [repeat:, x3...</td>\n",
       "      <td>[girlfriend?, [repeat:, x3], , , like, you,, r...</td>\n",
       "    </tr>\n",
       "    <tr>\n",
       "      <th>1</th>\n",
       "      <td>Bye bye bye   I'm doing this tonight   You're ...</td>\n",
       "      <td>[bye, bye, bye, , , i'm, doing, this, tonight,...</td>\n",
       "      <td>[bye, bye, bye, , , tonight, , , probably, gon...</td>\n",
       "    </tr>\n",
       "    <tr>\n",
       "      <th>2</th>\n",
       "      <td>Baby, you're not the only one   I see the thin...</td>\n",
       "      <td>[baby,, you're, not, the, only, one, , , i, se...</td>\n",
       "      <td>[baby,, one, , , see, things, , , pain, puts, ...</td>\n",
       "    </tr>\n",
       "    <tr>\n",
       "      <th>3</th>\n",
       "      <td>Thank God that it's Friday night and I   Just-...</td>\n",
       "      <td>[thank, god, that, it's, friday, night, and, i...</td>\n",
       "      <td>[thank, god, friday, night, , , just-just-just...</td>\n",
       "    </tr>\n",
       "    <tr>\n",
       "      <th>4</th>\n",
       "      <td>It's gonna--be--me   Oh, yeah      You might b...</td>\n",
       "      <td>[it's, gonna--be--me, , , oh,, yeah, , , , , ,...</td>\n",
       "      <td>[gonna--be--me, , , oh,, yeah, , , , , , might...</td>\n",
       "    </tr>\n",
       "  </tbody>\n",
       "</table>\n",
       "</div>"
      ],
      "text/plain": [
       "                                                Text  \\\n",
       "0  Would you be my Girlfriend? [Repeat: x3]   I l...   \n",
       "1  Bye bye bye   I'm doing this tonight   You're ...   \n",
       "2  Baby, you're not the only one   I see the thin...   \n",
       "3  Thank God that it's Friday night and I   Just-...   \n",
       "4  It's gonna--be--me   Oh, yeah      You might b...   \n",
       "\n",
       "                                               Words  \\\n",
       "0  [would, you, be, my, girlfriend?, [repeat:, x3...   \n",
       "1  [bye, bye, bye, , , i'm, doing, this, tonight,...   \n",
       "2  [baby,, you're, not, the, only, one, , , i, se...   \n",
       "3  [thank, god, that, it's, friday, night, and, i...   \n",
       "4  [it's, gonna--be--me, , , oh,, yeah, , , , , ,...   \n",
       "\n",
       "                                            Filtered  \n",
       "0  [girlfriend?, [repeat:, x3], , , like, you,, r...  \n",
       "1  [bye, bye, bye, , , tonight, , , probably, gon...  \n",
       "2  [baby,, one, , , see, things, , , pain, puts, ...  \n",
       "3  [thank, god, friday, night, , , just-just-just...  \n",
       "4  [gonna--be--me, , , oh,, yeah, , , , , , might...  "
      ]
     },
     "execution_count": 20,
     "metadata": {},
     "output_type": "execute_result"
    }
   ],
   "source": [
    "lyrics_final_df.head()"
   ]
  },
  {
   "cell_type": "code",
   "execution_count": 21,
   "metadata": {
    "collapsed": true
   },
   "outputs": [],
   "source": [
    "lyrics_filtered_df = lyrics_final_df.to_csv(\"lyrics_filtered.csv\", encoding=\"utf-8\", index=False)"
   ]
  },
  {
   "cell_type": "code",
   "execution_count": null,
   "metadata": {
    "collapsed": true
   },
   "outputs": [],
   "source": []
  }
 ],
 "metadata": {
  "kernelspec": {
   "display_name": "Python 3",
   "language": "python",
   "name": "python3"
  },
  "language_info": {
   "codemirror_mode": {
    "name": "ipython",
    "version": 3
   },
   "file_extension": ".py",
   "mimetype": "text/x-python",
   "name": "python",
   "nbconvert_exporter": "python",
   "pygments_lexer": "ipython3",
   "version": "3.6.3"
  }
 },
 "nbformat": 4,
 "nbformat_minor": 2
}
